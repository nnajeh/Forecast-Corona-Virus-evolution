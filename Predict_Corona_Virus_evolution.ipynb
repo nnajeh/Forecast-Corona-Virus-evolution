{
  "nbformat": 4,
  "nbformat_minor": 0,
  "metadata": {
    "colab": {
      "name": "Predict-Corona-Virus-evolution.ipynb",
      "provenance": [],
      "collapsed_sections": [],
      "toc_visible": true,
      "authorship_tag": "ABX9TyPRVzqQnE+YlrDAKZK7Zyvf",
      "include_colab_link": true
    },
    "kernelspec": {
      "name": "python3",
      "display_name": "Python 3"
    },
    "accelerator": "GPU"
  },
  "cells": [
    {
      "cell_type": "markdown",
      "metadata": {
        "id": "view-in-github",
        "colab_type": "text"
      },
      "source": [
        "<a href=\"https://colab.research.google.com/github/nnajeh/Forecast-Corona-Virus-evolution/blob/master/Predict_Corona_Virus_evolution.ipynb\" target=\"_parent\"><img src=\"https://colab.research.google.com/assets/colab-badge.svg\" alt=\"Open In Colab\"/></a>"
      ]
    },
    {
      "cell_type": "code",
      "metadata": {
        "id": "nnj1NlwDuvIW",
        "colab_type": "code",
        "outputId": "473bbd23-c063-4272-e15e-bfa3865938ac",
        "colab": {
          "base_uri": "https://localhost:8080/",
          "height": 80
        }
      },
      "source": [
        "# Load needed libraries\n",
        "import numpy as np\n",
        "import pandas as pd\n",
        "import matplotlib.pyplot as plt\n",
        "import torch\n",
        "from torch import nn, optim\n",
        "from keras.utils import np_utils\n",
        "from sklearn.preprocessing import MinMaxScaler\n",
        "from sklearn.preprocessing import StandardScaler\n",
        "\n",
        "from keras.models import Sequential\n",
        "from keras.layers import Dense\n",
        "from keras.layers import Dropout\n",
        "from keras.layers import LSTM\n",
        "from keras.callbacks import ModelCheckpoint"
      ],
      "execution_count": 1,
      "outputs": [
        {
          "output_type": "stream",
          "text": [
            "Using TensorFlow backend.\n"
          ],
          "name": "stderr"
        },
        {
          "output_type": "display_data",
          "data": {
            "text/html": [
              "<p style=\"color: red;\">\n",
              "The default version of TensorFlow in Colab will soon switch to TensorFlow 2.x.<br>\n",
              "We recommend you <a href=\"https://www.tensorflow.org/guide/migrate\" target=\"_blank\">upgrade</a> now \n",
              "or ensure your notebook will continue to use TensorFlow 1.x via the <code>%tensorflow_version 1.x</code> magic:\n",
              "<a href=\"https://colab.research.google.com/notebooks/tensorflow_version.ipynb\" target=\"_blank\">more info</a>.</p>\n"
            ],
            "text/plain": [
              "<IPython.core.display.HTML object>"
            ]
          },
          "metadata": {
            "tags": []
          }
        }
      ]
    },
    {
      "cell_type": "code",
      "metadata": {
        "id": "-PloJkywu18J",
        "colab_type": "code",
        "outputId": "ba8035af-0849-4694-d694-68db1e12be87",
        "colab": {
          "base_uri": "https://localhost:8080/",
          "height": 224
        }
      },
      "source": [
        "# Load the updated Corona Virus dataset\n",
        "!wget https://raw.githubusercontent.com/CSSEGISandData/COVID-19/master/csse_covid_19_data/csse_covid_19_time_series/time_series_19-covid-Confirmed.csv"
      ],
      "execution_count": 2,
      "outputs": [
        {
          "output_type": "stream",
          "text": [
            "--2020-03-14 22:14:14--  https://raw.githubusercontent.com/CSSEGISandData/COVID-19/master/csse_covid_19_data/csse_covid_19_time_series/time_series_19-covid-Confirmed.csv\n",
            "Resolving raw.githubusercontent.com (raw.githubusercontent.com)... 151.101.0.133, 151.101.64.133, 151.101.128.133, ...\n",
            "Connecting to raw.githubusercontent.com (raw.githubusercontent.com)|151.101.0.133|:443... connected.\n",
            "HTTP request sent, awaiting response... 200 OK\n",
            "Length: 62628 (61K) [text/plain]\n",
            "Saving to: ‘time_series_19-covid-Confirmed.csv’\n",
            "\n",
            "\r          time_seri   0%[                    ]       0  --.-KB/s               \rtime_series_19-covi 100%[===================>]  61.16K  --.-KB/s    in 0.008s  \n",
            "\n",
            "2020-03-14 22:14:14 (7.39 MB/s) - ‘time_series_19-covid-Confirmed.csv’ saved [62628/62628]\n",
            "\n"
          ],
          "name": "stdout"
        }
      ]
    },
    {
      "cell_type": "code",
      "metadata": {
        "id": "UdFa-Mo6vJf_",
        "colab_type": "code",
        "outputId": "29ae3421-b479-4f37-f2ee-75a52692ae7e",
        "colab": {
          "base_uri": "https://localhost:8080/",
          "height": 317
        }
      },
      "source": [
        "# Read the loaded data\n",
        "dataframe= pd.read_csv('/content/time_series_19-covid-Confirmed.csv')\n",
        "dataframe.describe()"
      ],
      "execution_count": 3,
      "outputs": [
        {
          "output_type": "execute_result",
          "data": {
            "text/html": [
              "<div>\n",
              "<style scoped>\n",
              "    .dataframe tbody tr th:only-of-type {\n",
              "        vertical-align: middle;\n",
              "    }\n",
              "\n",
              "    .dataframe tbody tr th {\n",
              "        vertical-align: top;\n",
              "    }\n",
              "\n",
              "    .dataframe thead th {\n",
              "        text-align: right;\n",
              "    }\n",
              "</style>\n",
              "<table border=\"1\" class=\"dataframe\">\n",
              "  <thead>\n",
              "    <tr style=\"text-align: right;\">\n",
              "      <th></th>\n",
              "      <th>Lat</th>\n",
              "      <th>Long</th>\n",
              "      <th>1/22/20</th>\n",
              "      <th>1/23/20</th>\n",
              "      <th>1/24/20</th>\n",
              "      <th>1/25/20</th>\n",
              "      <th>1/26/20</th>\n",
              "      <th>1/27/20</th>\n",
              "      <th>1/28/20</th>\n",
              "      <th>1/29/20</th>\n",
              "      <th>1/30/20</th>\n",
              "      <th>1/31/20</th>\n",
              "      <th>2/1/20</th>\n",
              "      <th>2/2/20</th>\n",
              "      <th>2/3/20</th>\n",
              "      <th>2/4/20</th>\n",
              "      <th>2/5/20</th>\n",
              "      <th>2/6/20</th>\n",
              "      <th>2/7/20</th>\n",
              "      <th>2/8/20</th>\n",
              "      <th>2/9/20</th>\n",
              "      <th>2/10/20</th>\n",
              "      <th>2/11/20</th>\n",
              "      <th>2/12/20</th>\n",
              "      <th>2/13/20</th>\n",
              "      <th>2/14/20</th>\n",
              "      <th>2/15/20</th>\n",
              "      <th>2/16/20</th>\n",
              "      <th>2/17/20</th>\n",
              "      <th>2/18/20</th>\n",
              "      <th>2/19/20</th>\n",
              "      <th>2/20/20</th>\n",
              "      <th>2/21/20</th>\n",
              "      <th>2/22/20</th>\n",
              "      <th>2/23/20</th>\n",
              "      <th>2/24/20</th>\n",
              "      <th>2/25/20</th>\n",
              "      <th>2/26/20</th>\n",
              "      <th>2/27/20</th>\n",
              "      <th>2/28/20</th>\n",
              "      <th>2/29/20</th>\n",
              "      <th>3/1/20</th>\n",
              "      <th>3/2/20</th>\n",
              "      <th>3/3/20</th>\n",
              "      <th>3/4/20</th>\n",
              "      <th>3/5/20</th>\n",
              "      <th>3/6/20</th>\n",
              "      <th>3/7/20</th>\n",
              "      <th>3/8/20</th>\n",
              "      <th>3/9/20</th>\n",
              "      <th>3/10/20</th>\n",
              "      <th>3/11/20</th>\n",
              "      <th>3/12/20</th>\n",
              "      <th>3/13/20</th>\n",
              "    </tr>\n",
              "  </thead>\n",
              "  <tbody>\n",
              "    <tr>\n",
              "      <th>count</th>\n",
              "      <td>421.000000</td>\n",
              "      <td>421.000000</td>\n",
              "      <td>421.000000</td>\n",
              "      <td>421.000000</td>\n",
              "      <td>421.000000</td>\n",
              "      <td>421.000000</td>\n",
              "      <td>421.000000</td>\n",
              "      <td>421.000000</td>\n",
              "      <td>421.000000</td>\n",
              "      <td>421.000000</td>\n",
              "      <td>421.000000</td>\n",
              "      <td>421.000000</td>\n",
              "      <td>421.000000</td>\n",
              "      <td>421.000000</td>\n",
              "      <td>421.000000</td>\n",
              "      <td>421.000000</td>\n",
              "      <td>421.00000</td>\n",
              "      <td>421.000000</td>\n",
              "      <td>421.000000</td>\n",
              "      <td>421.000000</td>\n",
              "      <td>421.000000</td>\n",
              "      <td>421.000000</td>\n",
              "      <td>421.000000</td>\n",
              "      <td>421.000000</td>\n",
              "      <td>421.000000</td>\n",
              "      <td>421.000000</td>\n",
              "      <td>421.000000</td>\n",
              "      <td>421.000000</td>\n",
              "      <td>421.000000</td>\n",
              "      <td>421.000000</td>\n",
              "      <td>421.000000</td>\n",
              "      <td>421.000000</td>\n",
              "      <td>421.000000</td>\n",
              "      <td>421.000000</td>\n",
              "      <td>421.000000</td>\n",
              "      <td>421.000000</td>\n",
              "      <td>421.000000</td>\n",
              "      <td>421.000000</td>\n",
              "      <td>421.000000</td>\n",
              "      <td>421.000000</td>\n",
              "      <td>421.000000</td>\n",
              "      <td>421.000000</td>\n",
              "      <td>421.000000</td>\n",
              "      <td>421.000000</td>\n",
              "      <td>421.000000</td>\n",
              "      <td>421.000000</td>\n",
              "      <td>421.000000</td>\n",
              "      <td>421.000000</td>\n",
              "      <td>421.000000</td>\n",
              "      <td>421.000000</td>\n",
              "      <td>421.000000</td>\n",
              "      <td>421.000000</td>\n",
              "      <td>421.000000</td>\n",
              "      <td>421.000000</td>\n",
              "    </tr>\n",
              "    <tr>\n",
              "      <th>mean</th>\n",
              "      <td>33.648870</td>\n",
              "      <td>-38.916934</td>\n",
              "      <td>1.318290</td>\n",
              "      <td>1.551069</td>\n",
              "      <td>2.235154</td>\n",
              "      <td>3.406176</td>\n",
              "      <td>5.030879</td>\n",
              "      <td>6.952494</td>\n",
              "      <td>13.249406</td>\n",
              "      <td>14.646081</td>\n",
              "      <td>19.558195</td>\n",
              "      <td>23.579572</td>\n",
              "      <td>28.593824</td>\n",
              "      <td>39.874109</td>\n",
              "      <td>47.223278</td>\n",
              "      <td>56.750594</td>\n",
              "      <td>65.64133</td>\n",
              "      <td>73.199525</td>\n",
              "      <td>81.688836</td>\n",
              "      <td>88.171021</td>\n",
              "      <td>95.368171</td>\n",
              "      <td>101.572447</td>\n",
              "      <td>106.418052</td>\n",
              "      <td>107.413302</td>\n",
              "      <td>143.391924</td>\n",
              "      <td>158.871734</td>\n",
              "      <td>163.966746</td>\n",
              "      <td>169.178147</td>\n",
              "      <td>174.009501</td>\n",
              "      <td>178.470309</td>\n",
              "      <td>179.665083</td>\n",
              "      <td>180.990499</td>\n",
              "      <td>182.477435</td>\n",
              "      <td>186.648456</td>\n",
              "      <td>187.565321</td>\n",
              "      <td>188.997625</td>\n",
              "      <td>191.004751</td>\n",
              "      <td>193.337292</td>\n",
              "      <td>196.565321</td>\n",
              "      <td>199.809976</td>\n",
              "      <td>204.301663</td>\n",
              "      <td>209.902613</td>\n",
              "      <td>214.503563</td>\n",
              "      <td>220.522565</td>\n",
              "      <td>225.938242</td>\n",
              "      <td>232.498812</td>\n",
              "      <td>241.767221</td>\n",
              "      <td>251.356295</td>\n",
              "      <td>260.795724</td>\n",
              "      <td>269.741093</td>\n",
              "      <td>281.691211</td>\n",
              "      <td>298.966746</td>\n",
              "      <td>304.852732</td>\n",
              "      <td>344.876485</td>\n",
              "    </tr>\n",
              "    <tr>\n",
              "      <th>std</th>\n",
              "      <td>17.309566</td>\n",
              "      <td>81.833728</td>\n",
              "      <td>21.691964</td>\n",
              "      <td>21.779313</td>\n",
              "      <td>27.126762</td>\n",
              "      <td>37.768516</td>\n",
              "      <td>52.794900</td>\n",
              "      <td>71.142530</td>\n",
              "      <td>174.400407</td>\n",
              "      <td>175.525661</td>\n",
              "      <td>241.855978</td>\n",
              "      <td>286.759824</td>\n",
              "      <td>352.854569</td>\n",
              "      <td>548.165886</td>\n",
              "      <td>662.620744</td>\n",
              "      <td>816.594028</td>\n",
              "      <td>962.24890</td>\n",
              "      <td>1081.670152</td>\n",
              "      <td>1220.191377</td>\n",
              "      <td>1324.928943</td>\n",
              "      <td>1448.228553</td>\n",
              "      <td>1550.405551</td>\n",
              "      <td>1630.246832</td>\n",
              "      <td>1630.554463</td>\n",
              "      <td>2352.198018</td>\n",
              "      <td>2654.009260</td>\n",
              "      <td>2743.813948</td>\n",
              "      <td>2837.977326</td>\n",
              "      <td>2925.990907</td>\n",
              "      <td>3008.450525</td>\n",
              "      <td>3025.480309</td>\n",
              "      <td>3045.494583</td>\n",
              "      <td>3056.297991</td>\n",
              "      <td>3125.541770</td>\n",
              "      <td>3125.603727</td>\n",
              "      <td>3135.571951</td>\n",
              "      <td>3159.935833</td>\n",
              "      <td>3179.661878</td>\n",
              "      <td>3200.109104</td>\n",
              "      <td>3216.470593</td>\n",
              "      <td>3238.730793</td>\n",
              "      <td>3268.459336</td>\n",
              "      <td>3280.423283</td>\n",
              "      <td>3290.459919</td>\n",
              "      <td>3299.730019</td>\n",
              "      <td>3311.155563</td>\n",
              "      <td>3325.182995</td>\n",
              "      <td>3339.307648</td>\n",
              "      <td>3352.704167</td>\n",
              "      <td>3368.494014</td>\n",
              "      <td>3381.614282</td>\n",
              "      <td>3408.577794</td>\n",
              "      <td>3416.666238</td>\n",
              "      <td>3492.127411</td>\n",
              "    </tr>\n",
              "    <tr>\n",
              "      <th>min</th>\n",
              "      <td>-41.454500</td>\n",
              "      <td>-157.858400</td>\n",
              "      <td>0.000000</td>\n",
              "      <td>0.000000</td>\n",
              "      <td>0.000000</td>\n",
              "      <td>0.000000</td>\n",
              "      <td>0.000000</td>\n",
              "      <td>0.000000</td>\n",
              "      <td>0.000000</td>\n",
              "      <td>0.000000</td>\n",
              "      <td>0.000000</td>\n",
              "      <td>0.000000</td>\n",
              "      <td>0.000000</td>\n",
              "      <td>0.000000</td>\n",
              "      <td>0.000000</td>\n",
              "      <td>0.000000</td>\n",
              "      <td>0.00000</td>\n",
              "      <td>0.000000</td>\n",
              "      <td>0.000000</td>\n",
              "      <td>0.000000</td>\n",
              "      <td>0.000000</td>\n",
              "      <td>0.000000</td>\n",
              "      <td>0.000000</td>\n",
              "      <td>0.000000</td>\n",
              "      <td>0.000000</td>\n",
              "      <td>0.000000</td>\n",
              "      <td>0.000000</td>\n",
              "      <td>0.000000</td>\n",
              "      <td>0.000000</td>\n",
              "      <td>0.000000</td>\n",
              "      <td>0.000000</td>\n",
              "      <td>0.000000</td>\n",
              "      <td>0.000000</td>\n",
              "      <td>0.000000</td>\n",
              "      <td>0.000000</td>\n",
              "      <td>0.000000</td>\n",
              "      <td>0.000000</td>\n",
              "      <td>0.000000</td>\n",
              "      <td>0.000000</td>\n",
              "      <td>0.000000</td>\n",
              "      <td>0.000000</td>\n",
              "      <td>0.000000</td>\n",
              "      <td>0.000000</td>\n",
              "      <td>0.000000</td>\n",
              "      <td>0.000000</td>\n",
              "      <td>0.000000</td>\n",
              "      <td>0.000000</td>\n",
              "      <td>0.000000</td>\n",
              "      <td>0.000000</td>\n",
              "      <td>0.000000</td>\n",
              "      <td>0.000000</td>\n",
              "      <td>0.000000</td>\n",
              "      <td>0.000000</td>\n",
              "      <td>0.000000</td>\n",
              "    </tr>\n",
              "    <tr>\n",
              "      <th>25%</th>\n",
              "      <td>30.791700</td>\n",
              "      <td>-95.814300</td>\n",
              "      <td>0.000000</td>\n",
              "      <td>0.000000</td>\n",
              "      <td>0.000000</td>\n",
              "      <td>0.000000</td>\n",
              "      <td>0.000000</td>\n",
              "      <td>0.000000</td>\n",
              "      <td>0.000000</td>\n",
              "      <td>0.000000</td>\n",
              "      <td>0.000000</td>\n",
              "      <td>0.000000</td>\n",
              "      <td>0.000000</td>\n",
              "      <td>0.000000</td>\n",
              "      <td>0.000000</td>\n",
              "      <td>0.000000</td>\n",
              "      <td>0.00000</td>\n",
              "      <td>0.000000</td>\n",
              "      <td>0.000000</td>\n",
              "      <td>0.000000</td>\n",
              "      <td>0.000000</td>\n",
              "      <td>0.000000</td>\n",
              "      <td>0.000000</td>\n",
              "      <td>0.000000</td>\n",
              "      <td>0.000000</td>\n",
              "      <td>0.000000</td>\n",
              "      <td>0.000000</td>\n",
              "      <td>0.000000</td>\n",
              "      <td>0.000000</td>\n",
              "      <td>0.000000</td>\n",
              "      <td>0.000000</td>\n",
              "      <td>0.000000</td>\n",
              "      <td>0.000000</td>\n",
              "      <td>0.000000</td>\n",
              "      <td>0.000000</td>\n",
              "      <td>0.000000</td>\n",
              "      <td>0.000000</td>\n",
              "      <td>0.000000</td>\n",
              "      <td>0.000000</td>\n",
              "      <td>0.000000</td>\n",
              "      <td>0.000000</td>\n",
              "      <td>0.000000</td>\n",
              "      <td>0.000000</td>\n",
              "      <td>0.000000</td>\n",
              "      <td>0.000000</td>\n",
              "      <td>0.000000</td>\n",
              "      <td>0.000000</td>\n",
              "      <td>0.000000</td>\n",
              "      <td>0.000000</td>\n",
              "      <td>0.000000</td>\n",
              "      <td>0.000000</td>\n",
              "      <td>0.000000</td>\n",
              "      <td>0.000000</td>\n",
              "      <td>0.000000</td>\n",
              "    </tr>\n",
              "    <tr>\n",
              "      <th>50%</th>\n",
              "      <td>38.502500</td>\n",
              "      <td>-76.872100</td>\n",
              "      <td>0.000000</td>\n",
              "      <td>0.000000</td>\n",
              "      <td>0.000000</td>\n",
              "      <td>0.000000</td>\n",
              "      <td>0.000000</td>\n",
              "      <td>0.000000</td>\n",
              "      <td>0.000000</td>\n",
              "      <td>0.000000</td>\n",
              "      <td>0.000000</td>\n",
              "      <td>0.000000</td>\n",
              "      <td>0.000000</td>\n",
              "      <td>0.000000</td>\n",
              "      <td>0.000000</td>\n",
              "      <td>0.000000</td>\n",
              "      <td>0.00000</td>\n",
              "      <td>0.000000</td>\n",
              "      <td>0.000000</td>\n",
              "      <td>0.000000</td>\n",
              "      <td>0.000000</td>\n",
              "      <td>0.000000</td>\n",
              "      <td>0.000000</td>\n",
              "      <td>0.000000</td>\n",
              "      <td>0.000000</td>\n",
              "      <td>0.000000</td>\n",
              "      <td>0.000000</td>\n",
              "      <td>0.000000</td>\n",
              "      <td>0.000000</td>\n",
              "      <td>0.000000</td>\n",
              "      <td>0.000000</td>\n",
              "      <td>0.000000</td>\n",
              "      <td>0.000000</td>\n",
              "      <td>0.000000</td>\n",
              "      <td>0.000000</td>\n",
              "      <td>0.000000</td>\n",
              "      <td>0.000000</td>\n",
              "      <td>0.000000</td>\n",
              "      <td>0.000000</td>\n",
              "      <td>0.000000</td>\n",
              "      <td>0.000000</td>\n",
              "      <td>0.000000</td>\n",
              "      <td>0.000000</td>\n",
              "      <td>0.000000</td>\n",
              "      <td>0.000000</td>\n",
              "      <td>0.000000</td>\n",
              "      <td>0.000000</td>\n",
              "      <td>0.000000</td>\n",
              "      <td>1.000000</td>\n",
              "      <td>1.000000</td>\n",
              "      <td>0.000000</td>\n",
              "      <td>0.000000</td>\n",
              "      <td>0.000000</td>\n",
              "      <td>1.000000</td>\n",
              "    </tr>\n",
              "    <tr>\n",
              "      <th>75%</th>\n",
              "      <td>42.368900</td>\n",
              "      <td>19.503300</td>\n",
              "      <td>0.000000</td>\n",
              "      <td>0.000000</td>\n",
              "      <td>0.000000</td>\n",
              "      <td>0.000000</td>\n",
              "      <td>0.000000</td>\n",
              "      <td>0.000000</td>\n",
              "      <td>0.000000</td>\n",
              "      <td>0.000000</td>\n",
              "      <td>0.000000</td>\n",
              "      <td>0.000000</td>\n",
              "      <td>0.000000</td>\n",
              "      <td>0.000000</td>\n",
              "      <td>0.000000</td>\n",
              "      <td>0.000000</td>\n",
              "      <td>0.00000</td>\n",
              "      <td>0.000000</td>\n",
              "      <td>0.000000</td>\n",
              "      <td>0.000000</td>\n",
              "      <td>0.000000</td>\n",
              "      <td>0.000000</td>\n",
              "      <td>0.000000</td>\n",
              "      <td>0.000000</td>\n",
              "      <td>0.000000</td>\n",
              "      <td>0.000000</td>\n",
              "      <td>0.000000</td>\n",
              "      <td>0.000000</td>\n",
              "      <td>0.000000</td>\n",
              "      <td>0.000000</td>\n",
              "      <td>0.000000</td>\n",
              "      <td>0.000000</td>\n",
              "      <td>0.000000</td>\n",
              "      <td>0.000000</td>\n",
              "      <td>0.000000</td>\n",
              "      <td>0.000000</td>\n",
              "      <td>0.000000</td>\n",
              "      <td>0.000000</td>\n",
              "      <td>0.000000</td>\n",
              "      <td>1.000000</td>\n",
              "      <td>1.000000</td>\n",
              "      <td>1.000000</td>\n",
              "      <td>1.000000</td>\n",
              "      <td>1.000000</td>\n",
              "      <td>2.000000</td>\n",
              "      <td>2.000000</td>\n",
              "      <td>3.000000</td>\n",
              "      <td>5.000000</td>\n",
              "      <td>7.000000</td>\n",
              "      <td>8.000000</td>\n",
              "      <td>11.000000</td>\n",
              "      <td>13.000000</td>\n",
              "      <td>19.000000</td>\n",
              "      <td>28.000000</td>\n",
              "    </tr>\n",
              "    <tr>\n",
              "      <th>max</th>\n",
              "      <td>64.963100</td>\n",
              "      <td>174.886000</td>\n",
              "      <td>444.000000</td>\n",
              "      <td>444.000000</td>\n",
              "      <td>549.000000</td>\n",
              "      <td>761.000000</td>\n",
              "      <td>1058.000000</td>\n",
              "      <td>1423.000000</td>\n",
              "      <td>3554.000000</td>\n",
              "      <td>3554.000000</td>\n",
              "      <td>4903.000000</td>\n",
              "      <td>5806.000000</td>\n",
              "      <td>7153.000000</td>\n",
              "      <td>11177.000000</td>\n",
              "      <td>13522.000000</td>\n",
              "      <td>16678.000000</td>\n",
              "      <td>19665.00000</td>\n",
              "      <td>22112.000000</td>\n",
              "      <td>24953.000000</td>\n",
              "      <td>27100.000000</td>\n",
              "      <td>29631.000000</td>\n",
              "      <td>31728.000000</td>\n",
              "      <td>33366.000000</td>\n",
              "      <td>33366.000000</td>\n",
              "      <td>48206.000000</td>\n",
              "      <td>54406.000000</td>\n",
              "      <td>56249.000000</td>\n",
              "      <td>58182.000000</td>\n",
              "      <td>59989.000000</td>\n",
              "      <td>61682.000000</td>\n",
              "      <td>62031.000000</td>\n",
              "      <td>62442.000000</td>\n",
              "      <td>62662.000000</td>\n",
              "      <td>64084.000000</td>\n",
              "      <td>64084.000000</td>\n",
              "      <td>64287.000000</td>\n",
              "      <td>64786.000000</td>\n",
              "      <td>65187.000000</td>\n",
              "      <td>65596.000000</td>\n",
              "      <td>65914.000000</td>\n",
              "      <td>66337.000000</td>\n",
              "      <td>66907.000000</td>\n",
              "      <td>67103.000000</td>\n",
              "      <td>67217.000000</td>\n",
              "      <td>67332.000000</td>\n",
              "      <td>67466.000000</td>\n",
              "      <td>67592.000000</td>\n",
              "      <td>67666.000000</td>\n",
              "      <td>67707.000000</td>\n",
              "      <td>67743.000000</td>\n",
              "      <td>67760.000000</td>\n",
              "      <td>67773.000000</td>\n",
              "      <td>67781.000000</td>\n",
              "      <td>67786.000000</td>\n",
              "    </tr>\n",
              "  </tbody>\n",
              "</table>\n",
              "</div>"
            ],
            "text/plain": [
              "              Lat        Long  ...       3/12/20       3/13/20\n",
              "count  421.000000  421.000000  ...    421.000000    421.000000\n",
              "mean    33.648870  -38.916934  ...    304.852732    344.876485\n",
              "std     17.309566   81.833728  ...   3416.666238   3492.127411\n",
              "min    -41.454500 -157.858400  ...      0.000000      0.000000\n",
              "25%     30.791700  -95.814300  ...      0.000000      0.000000\n",
              "50%     38.502500  -76.872100  ...      0.000000      1.000000\n",
              "75%     42.368900   19.503300  ...     19.000000     28.000000\n",
              "max     64.963100  174.886000  ...  67781.000000  67786.000000\n",
              "\n",
              "[8 rows x 54 columns]"
            ]
          },
          "metadata": {
            "tags": []
          },
          "execution_count": 3
        }
      ]
    },
    {
      "cell_type": "code",
      "metadata": {
        "id": "9pvbRgfrvUdL",
        "colab_type": "code",
        "outputId": "81b4d36f-264e-4af1-93df-8dc612f6e09e",
        "colab": {
          "base_uri": "https://localhost:8080/",
          "height": 224
        }
      },
      "source": [
        "# Drop the 4 first columns(Province/State, Country/Region, Lat, Long) because they are not interesting to predict the virus futur\n",
        "dataframe= dataframe.iloc[:, 4:]\n",
        "dataframe.head()"
      ],
      "execution_count": 4,
      "outputs": [
        {
          "output_type": "execute_result",
          "data": {
            "text/html": [
              "<div>\n",
              "<style scoped>\n",
              "    .dataframe tbody tr th:only-of-type {\n",
              "        vertical-align: middle;\n",
              "    }\n",
              "\n",
              "    .dataframe tbody tr th {\n",
              "        vertical-align: top;\n",
              "    }\n",
              "\n",
              "    .dataframe thead th {\n",
              "        text-align: right;\n",
              "    }\n",
              "</style>\n",
              "<table border=\"1\" class=\"dataframe\">\n",
              "  <thead>\n",
              "    <tr style=\"text-align: right;\">\n",
              "      <th></th>\n",
              "      <th>1/22/20</th>\n",
              "      <th>1/23/20</th>\n",
              "      <th>1/24/20</th>\n",
              "      <th>1/25/20</th>\n",
              "      <th>1/26/20</th>\n",
              "      <th>1/27/20</th>\n",
              "      <th>1/28/20</th>\n",
              "      <th>1/29/20</th>\n",
              "      <th>1/30/20</th>\n",
              "      <th>1/31/20</th>\n",
              "      <th>2/1/20</th>\n",
              "      <th>2/2/20</th>\n",
              "      <th>2/3/20</th>\n",
              "      <th>2/4/20</th>\n",
              "      <th>2/5/20</th>\n",
              "      <th>2/6/20</th>\n",
              "      <th>2/7/20</th>\n",
              "      <th>2/8/20</th>\n",
              "      <th>2/9/20</th>\n",
              "      <th>2/10/20</th>\n",
              "      <th>2/11/20</th>\n",
              "      <th>2/12/20</th>\n",
              "      <th>2/13/20</th>\n",
              "      <th>2/14/20</th>\n",
              "      <th>2/15/20</th>\n",
              "      <th>2/16/20</th>\n",
              "      <th>2/17/20</th>\n",
              "      <th>2/18/20</th>\n",
              "      <th>2/19/20</th>\n",
              "      <th>2/20/20</th>\n",
              "      <th>2/21/20</th>\n",
              "      <th>2/22/20</th>\n",
              "      <th>2/23/20</th>\n",
              "      <th>2/24/20</th>\n",
              "      <th>2/25/20</th>\n",
              "      <th>2/26/20</th>\n",
              "      <th>2/27/20</th>\n",
              "      <th>2/28/20</th>\n",
              "      <th>2/29/20</th>\n",
              "      <th>3/1/20</th>\n",
              "      <th>3/2/20</th>\n",
              "      <th>3/3/20</th>\n",
              "      <th>3/4/20</th>\n",
              "      <th>3/5/20</th>\n",
              "      <th>3/6/20</th>\n",
              "      <th>3/7/20</th>\n",
              "      <th>3/8/20</th>\n",
              "      <th>3/9/20</th>\n",
              "      <th>3/10/20</th>\n",
              "      <th>3/11/20</th>\n",
              "      <th>3/12/20</th>\n",
              "      <th>3/13/20</th>\n",
              "    </tr>\n",
              "  </thead>\n",
              "  <tbody>\n",
              "    <tr>\n",
              "      <th>0</th>\n",
              "      <td>2</td>\n",
              "      <td>3</td>\n",
              "      <td>5</td>\n",
              "      <td>7</td>\n",
              "      <td>8</td>\n",
              "      <td>8</td>\n",
              "      <td>14</td>\n",
              "      <td>14</td>\n",
              "      <td>14</td>\n",
              "      <td>19</td>\n",
              "      <td>19</td>\n",
              "      <td>19</td>\n",
              "      <td>19</td>\n",
              "      <td>25</td>\n",
              "      <td>25</td>\n",
              "      <td>25</td>\n",
              "      <td>25</td>\n",
              "      <td>32</td>\n",
              "      <td>32</td>\n",
              "      <td>32</td>\n",
              "      <td>33</td>\n",
              "      <td>33</td>\n",
              "      <td>33</td>\n",
              "      <td>33</td>\n",
              "      <td>33</td>\n",
              "      <td>34</td>\n",
              "      <td>35</td>\n",
              "      <td>35</td>\n",
              "      <td>35</td>\n",
              "      <td>35</td>\n",
              "      <td>35</td>\n",
              "      <td>35</td>\n",
              "      <td>35</td>\n",
              "      <td>35</td>\n",
              "      <td>37</td>\n",
              "      <td>40</td>\n",
              "      <td>40</td>\n",
              "      <td>41</td>\n",
              "      <td>42</td>\n",
              "      <td>42</td>\n",
              "      <td>43</td>\n",
              "      <td>43</td>\n",
              "      <td>43</td>\n",
              "      <td>47</td>\n",
              "      <td>48</td>\n",
              "      <td>50</td>\n",
              "      <td>50</td>\n",
              "      <td>50</td>\n",
              "      <td>53</td>\n",
              "      <td>59</td>\n",
              "      <td>70</td>\n",
              "      <td>75</td>\n",
              "    </tr>\n",
              "    <tr>\n",
              "      <th>1</th>\n",
              "      <td>2</td>\n",
              "      <td>1</td>\n",
              "      <td>2</td>\n",
              "      <td>2</td>\n",
              "      <td>4</td>\n",
              "      <td>4</td>\n",
              "      <td>7</td>\n",
              "      <td>7</td>\n",
              "      <td>11</td>\n",
              "      <td>15</td>\n",
              "      <td>20</td>\n",
              "      <td>20</td>\n",
              "      <td>20</td>\n",
              "      <td>22</td>\n",
              "      <td>22</td>\n",
              "      <td>45</td>\n",
              "      <td>25</td>\n",
              "      <td>25</td>\n",
              "      <td>26</td>\n",
              "      <td>26</td>\n",
              "      <td>26</td>\n",
              "      <td>28</td>\n",
              "      <td>28</td>\n",
              "      <td>29</td>\n",
              "      <td>43</td>\n",
              "      <td>59</td>\n",
              "      <td>66</td>\n",
              "      <td>74</td>\n",
              "      <td>84</td>\n",
              "      <td>94</td>\n",
              "      <td>105</td>\n",
              "      <td>122</td>\n",
              "      <td>147</td>\n",
              "      <td>159</td>\n",
              "      <td>170</td>\n",
              "      <td>189</td>\n",
              "      <td>214</td>\n",
              "      <td>228</td>\n",
              "      <td>241</td>\n",
              "      <td>256</td>\n",
              "      <td>274</td>\n",
              "      <td>293</td>\n",
              "      <td>331</td>\n",
              "      <td>360</td>\n",
              "      <td>420</td>\n",
              "      <td>461</td>\n",
              "      <td>502</td>\n",
              "      <td>511</td>\n",
              "      <td>581</td>\n",
              "      <td>639</td>\n",
              "      <td>639</td>\n",
              "      <td>701</td>\n",
              "    </tr>\n",
              "    <tr>\n",
              "      <th>2</th>\n",
              "      <td>0</td>\n",
              "      <td>1</td>\n",
              "      <td>3</td>\n",
              "      <td>3</td>\n",
              "      <td>4</td>\n",
              "      <td>5</td>\n",
              "      <td>7</td>\n",
              "      <td>7</td>\n",
              "      <td>10</td>\n",
              "      <td>13</td>\n",
              "      <td>16</td>\n",
              "      <td>18</td>\n",
              "      <td>18</td>\n",
              "      <td>24</td>\n",
              "      <td>28</td>\n",
              "      <td>28</td>\n",
              "      <td>30</td>\n",
              "      <td>33</td>\n",
              "      <td>40</td>\n",
              "      <td>45</td>\n",
              "      <td>47</td>\n",
              "      <td>50</td>\n",
              "      <td>58</td>\n",
              "      <td>67</td>\n",
              "      <td>72</td>\n",
              "      <td>75</td>\n",
              "      <td>77</td>\n",
              "      <td>81</td>\n",
              "      <td>84</td>\n",
              "      <td>84</td>\n",
              "      <td>85</td>\n",
              "      <td>85</td>\n",
              "      <td>89</td>\n",
              "      <td>89</td>\n",
              "      <td>91</td>\n",
              "      <td>93</td>\n",
              "      <td>93</td>\n",
              "      <td>93</td>\n",
              "      <td>102</td>\n",
              "      <td>106</td>\n",
              "      <td>108</td>\n",
              "      <td>110</td>\n",
              "      <td>110</td>\n",
              "      <td>117</td>\n",
              "      <td>130</td>\n",
              "      <td>138</td>\n",
              "      <td>150</td>\n",
              "      <td>150</td>\n",
              "      <td>160</td>\n",
              "      <td>178</td>\n",
              "      <td>178</td>\n",
              "      <td>200</td>\n",
              "    </tr>\n",
              "    <tr>\n",
              "      <th>3</th>\n",
              "      <td>0</td>\n",
              "      <td>0</td>\n",
              "      <td>0</td>\n",
              "      <td>1</td>\n",
              "      <td>1</td>\n",
              "      <td>1</td>\n",
              "      <td>1</td>\n",
              "      <td>1</td>\n",
              "      <td>1</td>\n",
              "      <td>1</td>\n",
              "      <td>1</td>\n",
              "      <td>1</td>\n",
              "      <td>1</td>\n",
              "      <td>1</td>\n",
              "      <td>1</td>\n",
              "      <td>1</td>\n",
              "      <td>1</td>\n",
              "      <td>1</td>\n",
              "      <td>1</td>\n",
              "      <td>1</td>\n",
              "      <td>1</td>\n",
              "      <td>1</td>\n",
              "      <td>1</td>\n",
              "      <td>1</td>\n",
              "      <td>1</td>\n",
              "      <td>1</td>\n",
              "      <td>1</td>\n",
              "      <td>1</td>\n",
              "      <td>1</td>\n",
              "      <td>1</td>\n",
              "      <td>1</td>\n",
              "      <td>1</td>\n",
              "      <td>1</td>\n",
              "      <td>1</td>\n",
              "      <td>1</td>\n",
              "      <td>1</td>\n",
              "      <td>1</td>\n",
              "      <td>1</td>\n",
              "      <td>1</td>\n",
              "      <td>1</td>\n",
              "      <td>1</td>\n",
              "      <td>1</td>\n",
              "      <td>1</td>\n",
              "      <td>1</td>\n",
              "      <td>1</td>\n",
              "      <td>1</td>\n",
              "      <td>1</td>\n",
              "      <td>1</td>\n",
              "      <td>1</td>\n",
              "      <td>1</td>\n",
              "      <td>1</td>\n",
              "      <td>1</td>\n",
              "    </tr>\n",
              "    <tr>\n",
              "      <th>4</th>\n",
              "      <td>0</td>\n",
              "      <td>0</td>\n",
              "      <td>0</td>\n",
              "      <td>3</td>\n",
              "      <td>4</td>\n",
              "      <td>4</td>\n",
              "      <td>4</td>\n",
              "      <td>7</td>\n",
              "      <td>8</td>\n",
              "      <td>8</td>\n",
              "      <td>8</td>\n",
              "      <td>8</td>\n",
              "      <td>8</td>\n",
              "      <td>10</td>\n",
              "      <td>12</td>\n",
              "      <td>12</td>\n",
              "      <td>12</td>\n",
              "      <td>16</td>\n",
              "      <td>16</td>\n",
              "      <td>18</td>\n",
              "      <td>18</td>\n",
              "      <td>18</td>\n",
              "      <td>19</td>\n",
              "      <td>19</td>\n",
              "      <td>22</td>\n",
              "      <td>22</td>\n",
              "      <td>22</td>\n",
              "      <td>22</td>\n",
              "      <td>22</td>\n",
              "      <td>22</td>\n",
              "      <td>22</td>\n",
              "      <td>22</td>\n",
              "      <td>22</td>\n",
              "      <td>22</td>\n",
              "      <td>22</td>\n",
              "      <td>22</td>\n",
              "      <td>23</td>\n",
              "      <td>23</td>\n",
              "      <td>25</td>\n",
              "      <td>29</td>\n",
              "      <td>29</td>\n",
              "      <td>36</td>\n",
              "      <td>50</td>\n",
              "      <td>50</td>\n",
              "      <td>83</td>\n",
              "      <td>93</td>\n",
              "      <td>99</td>\n",
              "      <td>117</td>\n",
              "      <td>129</td>\n",
              "      <td>149</td>\n",
              "      <td>149</td>\n",
              "      <td>197</td>\n",
              "    </tr>\n",
              "  </tbody>\n",
              "</table>\n",
              "</div>"
            ],
            "text/plain": [
              "   1/22/20  1/23/20  1/24/20  1/25/20  ...  3/10/20  3/11/20  3/12/20  3/13/20\n",
              "0        2        3        5        7  ...       53       59       70       75\n",
              "1        2        1        2        2  ...      581      639      639      701\n",
              "2        0        1        3        3  ...      160      178      178      200\n",
              "3        0        0        0        1  ...        1        1        1        1\n",
              "4        0        0        0        3  ...      129      149      149      197\n",
              "\n",
              "[5 rows x 52 columns]"
            ]
          },
          "metadata": {
            "tags": []
          },
          "execution_count": 4
        }
      ]
    },
    {
      "cell_type": "code",
      "metadata": {
        "id": "kPsxOLmOv_ik",
        "colab_type": "code",
        "outputId": "b117b7c5-b6ec-45c8-822c-c83d7b58304d",
        "colab": {
          "base_uri": "https://localhost:8080/",
          "height": 918
        }
      },
      "source": [
        "# Each row is a daily case of the Corona Virus\n",
        "# calculate the sum of each row\n",
        "daily_cases = dataframe.sum(axis=0)\n",
        "print(daily_cases)"
      ],
      "execution_count": 5,
      "outputs": [
        {
          "output_type": "stream",
          "text": [
            "1/22/20       555\n",
            "1/23/20       653\n",
            "1/24/20       941\n",
            "1/25/20      1434\n",
            "1/26/20      2118\n",
            "1/27/20      2927\n",
            "1/28/20      5578\n",
            "1/29/20      6166\n",
            "1/30/20      8234\n",
            "1/31/20      9927\n",
            "2/1/20      12038\n",
            "2/2/20      16787\n",
            "2/3/20      19881\n",
            "2/4/20      23892\n",
            "2/5/20      27635\n",
            "2/6/20      30817\n",
            "2/7/20      34391\n",
            "2/8/20      37120\n",
            "2/9/20      40150\n",
            "2/10/20     42762\n",
            "2/11/20     44802\n",
            "2/12/20     45221\n",
            "2/13/20     60368\n",
            "2/14/20     66885\n",
            "2/15/20     69030\n",
            "2/16/20     71224\n",
            "2/17/20     73258\n",
            "2/18/20     75136\n",
            "2/19/20     75639\n",
            "2/20/20     76197\n",
            "2/21/20     76823\n",
            "2/22/20     78579\n",
            "2/23/20     78965\n",
            "2/24/20     79568\n",
            "2/25/20     80413\n",
            "2/26/20     81395\n",
            "2/27/20     82754\n",
            "2/28/20     84120\n",
            "2/29/20     86011\n",
            "3/1/20      88369\n",
            "3/2/20      90306\n",
            "3/3/20      92840\n",
            "3/4/20      95120\n",
            "3/5/20      97882\n",
            "3/6/20     101784\n",
            "3/7/20     105821\n",
            "3/8/20     109795\n",
            "3/9/20     113561\n",
            "3/10/20    118592\n",
            "3/11/20    125865\n",
            "3/12/20    128343\n",
            "3/13/20    145193\n",
            "dtype: int64\n"
          ],
          "name": "stdout"
        }
      ]
    },
    {
      "cell_type": "code",
      "metadata": {
        "id": "9saiZAJVwUuX",
        "colab_type": "code",
        "outputId": "15edb5f4-e1cd-458d-b68d-6a14f598c547",
        "colab": {
          "base_uri": "https://localhost:8080/",
          "height": 918
        }
      },
      "source": [
        "# Convert \"1/22/2020\" numbers to a proper date time format \"1-22-2020\"\n",
        "daily_cases.index= pd.to_datetime(daily_cases.index)\n",
        "print(daily_cases)"
      ],
      "execution_count": 6,
      "outputs": [
        {
          "output_type": "stream",
          "text": [
            "2020-01-22       555\n",
            "2020-01-23       653\n",
            "2020-01-24       941\n",
            "2020-01-25      1434\n",
            "2020-01-26      2118\n",
            "2020-01-27      2927\n",
            "2020-01-28      5578\n",
            "2020-01-29      6166\n",
            "2020-01-30      8234\n",
            "2020-01-31      9927\n",
            "2020-02-01     12038\n",
            "2020-02-02     16787\n",
            "2020-02-03     19881\n",
            "2020-02-04     23892\n",
            "2020-02-05     27635\n",
            "2020-02-06     30817\n",
            "2020-02-07     34391\n",
            "2020-02-08     37120\n",
            "2020-02-09     40150\n",
            "2020-02-10     42762\n",
            "2020-02-11     44802\n",
            "2020-02-12     45221\n",
            "2020-02-13     60368\n",
            "2020-02-14     66885\n",
            "2020-02-15     69030\n",
            "2020-02-16     71224\n",
            "2020-02-17     73258\n",
            "2020-02-18     75136\n",
            "2020-02-19     75639\n",
            "2020-02-20     76197\n",
            "2020-02-21     76823\n",
            "2020-02-22     78579\n",
            "2020-02-23     78965\n",
            "2020-02-24     79568\n",
            "2020-02-25     80413\n",
            "2020-02-26     81395\n",
            "2020-02-27     82754\n",
            "2020-02-28     84120\n",
            "2020-02-29     86011\n",
            "2020-03-01     88369\n",
            "2020-03-02     90306\n",
            "2020-03-03     92840\n",
            "2020-03-04     95120\n",
            "2020-03-05     97882\n",
            "2020-03-06    101784\n",
            "2020-03-07    105821\n",
            "2020-03-08    109795\n",
            "2020-03-09    113561\n",
            "2020-03-10    118592\n",
            "2020-03-11    125865\n",
            "2020-03-12    128343\n",
            "2020-03-13    145193\n",
            "dtype: int64\n"
          ],
          "name": "stdout"
        }
      ]
    },
    {
      "cell_type": "code",
      "metadata": {
        "id": "39h14ANBw5Dv",
        "colab_type": "code",
        "outputId": "555d3455-792a-47e0-dbb7-46de332a8f9d",
        "colab": {
          "base_uri": "https://localhost:8080/",
          "height": 403
        }
      },
      "source": [
        "# Show results \n",
        "plt.plot(daily_cases, label=\"Corona Virus Data\")\n",
        "plt.title(\"Corona Virus Curve\")\n",
        "plt.show()"
      ],
      "execution_count": 7,
      "outputs": [
        {
          "output_type": "stream",
          "text": [
            "/usr/local/lib/python3.6/dist-packages/pandas/plotting/_matplotlib/converter.py:103: FutureWarning: Using an implicitly registered datetime converter for a matplotlib plotting method. The converter was registered by pandas on import. Future versions of pandas will require you to explicitly register matplotlib converters.\n",
            "\n",
            "To register the converters:\n",
            "\t>>> from pandas.plotting import register_matplotlib_converters\n",
            "\t>>> register_matplotlib_converters()\n",
            "  warnings.warn(msg, FutureWarning)\n"
          ],
          "name": "stderr"
        },
        {
          "output_type": "display_data",
          "data": {
            "image/png": "[encoded data removed]",
            "text/plain": [
              "<Figure size 432x288 with 1 Axes>"
            ]
          },
          "metadata": {
            "tags": []
          }
        }
      ]
    },
    {
      "cell_type": "code",
      "metadata": {
        "id": "0dk9p_iHxnr5",
        "colab_type": "code",
        "colab": {}
      },
      "source": [
        "# Use diff() function to find the discrete difference in the dataframe series compared to another element in the series\n",
        "# Use fillna() function to fill-out(complete) the missing values in the dataframe series\n",
        "daily_cases= daily_cases.diff().fillna(daily_cases[0])"
      ],
      "execution_count": 0,
      "outputs": []
    },
    {
      "cell_type": "code",
      "metadata": {
        "id": "K-Kxd0tlxwzU",
        "colab_type": "code",
        "outputId": "3529a928-9f10-4595-bdb8-d9ec2d1f5346",
        "colab": {
          "base_uri": "https://localhost:8080/",
          "height": 281
        }
      },
      "source": [
        "# Show the result\n",
        "plt.plot(daily_cases, label=\"Corona Virus Data\")\n",
        "plt.title(\"Daily cases Curve\")\n",
        "plt.show()"
      ],
      "execution_count": 9,
      "outputs": [
        {
          "output_type": "display_data",
          "data": {
            "image/png": "[encoded data removed]",
            "text/plain": [
              "<Figure size 432x288 with 1 Axes>"
            ]
          },
          "metadata": {
            "tags": []
          }
        }
      ]
    },
    {
      "cell_type": "code",
      "metadata": {
        "id": "f95Rke_XgAXd",
        "colab_type": "code",
        "outputId": "289071e7-fe49-41b2-dc3a-b829435e1b18",
        "colab": {
          "base_uri": "https://localhost:8080/",
          "height": 34
        }
      },
      "source": [
        "daily_cases.shape"
      ],
      "execution_count": 10,
      "outputs": [
        {
          "output_type": "execute_result",
          "data": {
            "text/plain": [
              "(52,)"
            ]
          },
          "metadata": {
            "tags": []
          },
          "execution_count": 10
        }
      ]
    },
    {
      "cell_type": "code",
      "metadata": {
        "id": "pJRvpodz2agc",
        "colab_type": "code",
        "cellView": "form",
        "colab": {}
      },
      "source": [
        "#@title Preprocessing\n",
        "\n"
      ],
      "execution_count": 0,
      "outputs": []
    },
    {
      "cell_type": "code",
      "metadata": {
        "id": "afjwxiWhyelt",
        "colab_type": "code",
        "colab": {}
      },
      "source": [
        "# Split Corona Virus data into train and test sets\n",
        "test_data_size = 18\n",
        "train_data = daily_cases[:-test_data_size]\n",
        "test_data = daily_cases[-test_data_size:]"
      ],
      "execution_count": 0,
      "outputs": []
    },
    {
      "cell_type": "code",
      "metadata": {
        "id": "nyDM4FBa0pzE",
        "colab_type": "code",
        "colab": {}
      },
      "source": [
        "dataset = dataframe.values\n",
        "dataset = dataset.astype('int64')"
      ],
      "execution_count": 0,
      "outputs": []
    },
    {
      "cell_type": "code",
      "metadata": {
        "id": "5ftWZ1fs38l8",
        "colab_type": "code",
        "colab": {}
      },
      "source": [
        "# Transform features by scaling each feature to make the data much more faster\n",
        "# Scale data using only train data\n",
        "scalar = MinMaxScaler()\n",
        "scalar = scalar.fit(np.expand_dims(train_data, axis=1))"
      ],
      "execution_count": 0,
      "outputs": []
    },
    {
      "cell_type": "code",
      "metadata": {
        "id": "45jVecd3-aEu",
        "colab_type": "code",
        "colab": {}
      },
      "source": [
        "# Convert the training  data\n",
        "train_data = scalar.transform(np.expand_dims(train_data, axis=1))\n",
        "test_data = scalar.transform(np.expand_dims(test_data, axis=1))"
      ],
      "execution_count": 0,
      "outputs": []
    },
    {
      "cell_type": "code",
      "metadata": {
        "id": "LVoCktZM5iQf",
        "colab_type": "code",
        "colab": {}
      },
      "source": [
        "# convert an array of values into a dataset matrix\n",
        "# create a sequence based on the sequence length \"seq_length\"\n",
        "# convert sequence to a sub-sequences\n",
        "def create_seqdata(dataset, seq_length):\n",
        "  X_data = []\n",
        "  y_data = []\n",
        "  for i in range(len(dataset)- seq_length -1):\n",
        "    seq_in = dataset[i:(i+seq_length)]\n",
        "    seq_out = dataset[i+seq_length]\n",
        "    X_data.append(seq_in)\n",
        "    y_data.append(seq_out)\n",
        "  return np.array(X_data), np.array(y_data)"
      ],
      "execution_count": 0,
      "outputs": []
    },
    {
      "cell_type": "code",
      "metadata": {
        "id": "F8Ew5j7m8tWl",
        "colab_type": "code",
        "colab": {}
      },
      "source": [
        "#train our model with data from five days\n",
        "seq_length=8\n",
        "\n",
        "#split the dataset\n",
        "X_train, y_train = create_seqdata(train_data, seq_length)\n",
        "X_test, y_test = create_seqdata(test_data, seq_length)"
      ],
      "execution_count": 0,
      "outputs": []
    },
    {
      "cell_type": "code",
      "metadata": {
        "id": "_mQanKLt-iJC",
        "colab_type": "code",
        "colab": {}
      },
      "source": [
        "# convert numpy arrays to PyTorch tensors \n",
        "X_train, y_train = torch.from_numpy(X_train).float(),  torch.from_numpy(y_train).float()\n",
        "X_test, y_test = torch.from_numpy(X_test).float(), torch.from_numpy(y_test).float()"
      ],
      "execution_count": 0,
      "outputs": []
    },
    {
      "cell_type": "code",
      "metadata": {
        "id": "IRY5WjwqLoI5",
        "colab_type": "code",
        "cellView": "form",
        "colab": {}
      },
      "source": [
        "#@title Build the model\n",
        "\n",
        "\n"
      ],
      "execution_count": 0,
      "outputs": []
    },
    {
      "cell_type": "code",
      "metadata": {
        "id": "UIevbmuH5djf",
        "colab_type": "code",
        "colab": {}
      },
      "source": [
        "class CoronaVirusPediction(nn.Module):\n",
        " \n",
        "  #Define the constructor\n",
        "  def __init__(self, input_dim, hidden_dim, seq_len, num_layers=2):\n",
        "    super(CoronaVirusPediction, self).__init__()\n",
        "    \n",
        "    self.input_dim= input_dim\n",
        "    self.hidden_dim= hidden_dim\n",
        "    # Two LSTM layers\n",
        "    self.num_layers = num_layers\n",
        "    self.seq_len= seq_len\n",
        "    \n",
        "    # Create the first layer\n",
        "    self.lstm= nn.LSTM(input_size=input_dim, hidden_size=hidden_dim, num_layers=num_layers, dropout=0.5)\n",
        "\n",
        "    # Create the second(Linear) layer\n",
        "    # \"out_features=1\" we will predict just a single number\n",
        "    self.linear= nn.Linear(in_features=hidden_dim, out_features=1)\n",
        "\n",
        "    \n",
        "  # we will use stateless LSTM, so we need to reset the state after each example\n",
        "  def reset_hidden_state(self):\n",
        "    self.hidden = (torch.zeros(self.num_layers, self.seq_len, self.hidden_dim), torch.zeros(self.num_layers, self.seq_len, self.hidden_dim))\n",
        "       \n",
        "  # get the sequences, pass all of them through the LSTM layer, at once. \n",
        "  # We take the output of the last time step and pass it through our linear layer to get the prediction.\n",
        "  def forward(self, sequences):\n",
        "    lstm_out, self.hidden = self.lstm(sequences.view(len(sequences), self.seq_len, -1), self.hidden)\n",
        "        \n",
        "    last_time_step = \\\n",
        "        lstm_out.view(self.seq_len, len(sequences), self.hidden_dim)[-1]\n",
        "\n",
        "    y_pred = self.linear(last_time_step)\n",
        "\n",
        "    return y_pred"
      ],
      "execution_count": 0,
      "outputs": []
    },
    {
      "cell_type": "code",
      "metadata": {
        "id": "mCjGnYO05mEB",
        "colab_type": "code",
        "cellView": "form",
        "colab": {}
      },
      "source": [
        "#@title Train the model"
      ],
      "execution_count": 0,
      "outputs": []
    },
    {
      "cell_type": "code",
      "metadata": {
        "id": "qjRLlLaY5yTI",
        "colab_type": "code",
        "colab": {}
      },
      "source": [
        "def train_model(model, train_data, train_labels, test_data=None, test_labels=None):\n",
        "\n",
        "  #construct our loss function\n",
        "  loss_fn = torch.nn.MSELoss(reduction='sum')\n",
        "\n",
        "  #Construct our optimize function\n",
        "  optimiser = torch.optim.Adam(model.parameters(), lr=1e-3)\n",
        "  num_epochs = 60\n",
        "\n",
        "  # Return a new array with a given shape and type \n",
        "  train_hist = np.zeros(num_epochs)\n",
        "  test_hist = np.zeros(num_epochs)\n",
        "\n",
        "  for t in range(num_epochs):\n",
        "    model.reset_hidden_state()\n",
        "\n",
        "    y_pred = model(X_train)\n",
        "\n",
        "    loss = loss_fn(y_pred.float(), y_train)\n",
        "\n",
        "    if test_data is not None:\n",
        "      with torch.no_grad():\n",
        "        y_test_pred = model(X_test)\n",
        "        test_loss = loss_fn(y_test_pred.float(), y_test)\n",
        "      test_hist[t] = test_loss.item()\n",
        "\n",
        "      if t % 10 == 0:  \n",
        "        print(f'Epoch {t} train loss: {loss.item()} test loss: {test_loss.item()}')\n",
        "    elif t % 10 == 0:\n",
        "      print(f'Epoch {t} train loss: {loss.item()}')\n",
        "\n",
        "    train_hist[t] = loss.item()\n",
        "    \n",
        "    optimiser.zero_grad()\n",
        "\n",
        "    loss.backward()\n",
        "\n",
        "    optimiser.step()\n",
        "  \n",
        "  return model.eval(), train_hist, test_hist"
      ],
      "execution_count": 0,
      "outputs": []
    },
    {
      "cell_type": "code",
      "metadata": {
        "id": "pl7qJOO46BWG",
        "colab_type": "code",
        "outputId": "29f4e7fc-a44e-47d9-9736-d7ba88becbe4",
        "colab": {
          "base_uri": "https://localhost:8080/",
          "height": 119
        }
      },
      "source": [
        "# Create the model instance\n",
        "model = CoronaVirusPediction(input_dim=1, hidden_dim=512, seq_len=seq_length, num_layers=2)\n",
        "model, train_hist, test_hist = train_model(model, X_train, y_train, X_test, y_test)"
      ],
      "execution_count": 20,
      "outputs": [
        {
          "output_type": "stream",
          "text": [
            "Epoch 0 train loss: 1.8993780612945557 test loss: 0.7239571809768677\n",
            "Epoch 10 train loss: 0.9096190333366394 test loss: 0.14611384272575378\n",
            "Epoch 20 train loss: 0.9133224487304688 test loss: 0.14846405386924744\n",
            "Epoch 30 train loss: 0.9235427379608154 test loss: 0.11222799867391586\n",
            "Epoch 40 train loss: 0.9007084965705872 test loss: 0.12994267046451569\n",
            "Epoch 50 train loss: 0.879052460193634 test loss: 0.1283426135778427\n"
          ],
          "name": "stdout"
        }
      ]
    },
    {
      "cell_type": "code",
      "metadata": {
        "id": "qUoxcYCe6qLO",
        "colab_type": "code",
        "outputId": "2aa76b08-0210-4c6b-d18a-f3728e78eaf5",
        "colab": {
          "base_uri": "https://localhost:8080/",
          "height": 269
        }
      },
      "source": [
        "# Show the result\n",
        "plt.plot(train_hist, label=\"Training loss\")\n",
        "plt.plot(test_hist, label=\"Test loss\")\n",
        "plt.ylim((0, 5))\n",
        "plt.legend();"
      ],
      "execution_count": 21,
      "outputs": [
        {
          "output_type": "display_data",
          "data": {
            "image/png": "[encoded data removed]",
            "text/plain": [
              "<Figure size 432x288 with 1 Axes>"
            ]
          },
          "metadata": {
            "tags": []
          }
        }
      ]
    },
    {
      "cell_type": "code",
      "metadata": {
        "id": "6HpHNHeYaEdC",
        "colab_type": "code",
        "cellView": "form",
        "colab": {}
      },
      "source": [
        "#@title Predicting daily cases\n"
      ],
      "execution_count": 0,
      "outputs": []
    },
    {
      "cell_type": "code",
      "metadata": {
        "id": "3LDcd98-inZF",
        "colab_type": "code",
        "colab": {}
      },
      "source": [
        "# predict the next day\n",
        "with torch.no_grad():\n",
        "  test_seq = X_test[:1]\n",
        "  preds = []\n",
        "  for _ in range(len(X_test)):\n",
        "    y_test_pred = model(test_seq)\n",
        "    pred = torch.flatten(y_test_pred).item()\n",
        "    preds.append(pred)\n",
        "    new_seq = test_seq.numpy().flatten()\n",
        "    new_seq = np.append(new_seq, [pred])\n",
        "    new_seq = new_seq[1:]\n",
        "    test_seq = torch.as_tensor(new_seq).view(1, seq_length, 1).float()"
      ],
      "execution_count": 0,
      "outputs": []
    },
    {
      "cell_type": "code",
      "metadata": {
        "id": "oIk4zDQRlCYf",
        "colab_type": "code",
        "colab": {}
      },
      "source": [
        "# Insert a new axis that will appear at the axis position in the expanded array shape.\n",
        "# invert prediction\n",
        "true_cases = scalar.inverse_transform(np.expand_dims(y_test.flatten().numpy(), axis=0)).flatten()\n",
        "predicted_cases = scalar.inverse_transform(np.expand_dims(preds, axis=0)).flatten()"
      ],
      "execution_count": 0,
      "outputs": []
    },
    {
      "cell_type": "code",
      "metadata": {
        "id": "FMCsQglIl1eu",
        "colab_type": "code",
        "outputId": "3bf2d4eb-2eb5-4a58-dcbf-3fa66a447092",
        "colab": {
          "base_uri": "https://localhost:8080/",
          "height": 298
        }
      },
      "source": [
        "# Show the result\n",
        "plt.plot(daily_cases.index[:len(train_data)], scalar.inverse_transform(train_data).flatten(), label='Historical Daily Cases')\n",
        "plt.plot(daily_cases.index[len(train_data):len(train_data) + len(true_cases)], true_cases, label='Real Daily Cases')\n",
        "plt.plot(daily_cases.index[len(train_data):len(train_data) + len(true_cases)], predicted_cases, label='Predicted Daily Cases')\n",
        "plt.legend();\n",
        "plt.title(\"Daily cases \")"
      ],
      "execution_count": 24,
      "outputs": [
        {
          "output_type": "execute_result",
          "data": {
            "text/plain": [
              "Text(0.5, 1.0, 'Daily cases ')"
            ]
          },
          "metadata": {
            "tags": []
          },
          "execution_count": 24
        },
        {
          "output_type": "display_data",
          "data": {
            "image/png": "[encoded data removed]",
            "text/plain": [
              "<Figure size 432x288 with 1 Axes>"
            ]
          },
          "metadata": {
            "tags": []
          }
        }
      ]
    },
    {
      "cell_type": "code",
      "metadata": {
        "id": "9eicveQOnQRv",
        "colab_type": "code",
        "cellView": "form",
        "colab": {}
      },
      "source": [
        "#@title Use all data for training\n"
      ],
      "execution_count": 0,
      "outputs": []
    },
    {
      "cell_type": "code",
      "metadata": {
        "id": "WBw9BEJXoHP1",
        "colab_type": "code",
        "colab": {}
      },
      "source": [
        "# Use available data to train the model\n",
        "\n",
        "scalar = MinMaxScaler()\n",
        "scalar = scalar.fit(np.expand_dims(daily_cases, axis=1))\n",
        "all_data = scalar.transform(np.expand_dims(daily_cases, axis=1))"
      ],
      "execution_count": 0,
      "outputs": []
    },
    {
      "cell_type": "code",
      "metadata": {
        "id": "9W1YV5HLpFFA",
        "colab_type": "code",
        "outputId": "90eeb971-5215-4b51-f629-34367760f207",
        "colab": {
          "base_uri": "https://localhost:8080/",
          "height": 119
        }
      },
      "source": [
        "X_all, y_all = create_seqdata(all_data, seq_length)\n",
        "\n",
        "X_all = torch.from_numpy(X_all).float()\n",
        "y_all = torch.from_numpy(y_all).float()\n",
        "\n",
        "model = CoronaVirusPediction( input_dim=1, hidden_dim=512, seq_len=seq_length, num_layers=2)\n",
        "\n",
        "model, train_hist, _ = train_model(model, X_all, y_all)"
      ],
      "execution_count": 27,
      "outputs": [
        {
          "output_type": "stream",
          "text": [
            "Epoch 0 train loss: 2.2887277603149414\n",
            "Epoch 10 train loss: 0.9209268689155579\n",
            "Epoch 20 train loss: 0.8973830938339233\n",
            "Epoch 30 train loss: 0.9063287377357483\n",
            "Epoch 40 train loss: 0.8888044357299805\n",
            "Epoch 50 train loss: 0.9098039865493774\n"
          ],
          "name": "stdout"
        }
      ]
    },
    {
      "cell_type": "code",
      "metadata": {
        "id": "9GAFszVhqBB7",
        "colab_type": "code",
        "cellView": "form",
        "colab": {}
      },
      "source": [
        "#@title Predicting future cases\n"
      ],
      "execution_count": 0,
      "outputs": []
    },
    {
      "cell_type": "code",
      "metadata": {
        "id": "RFvtmvB8qhsw",
        "colab_type": "code",
        "colab": {}
      },
      "source": [
        "# We'll use our \"fully trained\" model to predict the confirmed cases for 12 days into the future:\n",
        "DAYS_TO_PREDICT = 12\n",
        "\n",
        "with torch.no_grad():\n",
        "  test_seq = X_all[:1]\n",
        "  preds = []\n",
        "  for _ in range(DAYS_TO_PREDICT):\n",
        "    y_test_pred = model(test_seq)\n",
        "    pred = torch.flatten(y_test_pred).item()\n",
        "    preds.append(pred)\n",
        "    new_seq = test_seq.numpy().flatten()\n",
        "    new_seq = np.append(new_seq, [pred])\n",
        "    new_seq = new_seq[1:]\n",
        "    test_seq = torch.as_tensor(new_seq).view(1, seq_length, 1).float()"
      ],
      "execution_count": 0,
      "outputs": []
    },
    {
      "cell_type": "code",
      "metadata": {
        "id": "PZhK8w4DqwSM",
        "colab_type": "code",
        "colab": {}
      },
      "source": [
        "#As before, we'll inverse the scaler transformation:\n",
        "predicted_cases = scalar.inverse_transform(np.expand_dims(preds, axis=0)).flatten()"
      ],
      "execution_count": 0,
      "outputs": []
    },
    {
      "cell_type": "code",
      "metadata": {
        "id": "GisylpY0r9_M",
        "colab_type": "code",
        "outputId": "89c2428e-d750-4799-8617-f66ea02e9ece",
        "colab": {
          "base_uri": "https://localhost:8080/",
          "height": 34
        }
      },
      "source": [
        "daily_cases.index[-1]"
      ],
      "execution_count": 31,
      "outputs": [
        {
          "output_type": "execute_result",
          "data": {
            "text/plain": [
              "Timestamp('2020-03-13 00:00:00')"
            ]
          },
          "metadata": {
            "tags": []
          },
          "execution_count": 31
        }
      ]
    },
    {
      "cell_type": "code",
      "metadata": {
        "id": "7vJfhLnqsCHf",
        "colab_type": "code",
        "outputId": "4bfedc47-9d0b-442f-fdf6-c6a6f83d6d78",
        "colab": {
          "base_uri": "https://localhost:8080/",
          "height": 265
        }
      },
      "source": [
        "predicted_index = pd.date_range(start=daily_cases.index[-1],periods=DAYS_TO_PREDICT + 1, closed='right')\n",
        "\n",
        "predicted_cases = pd.Series(data=predicted_cases,  index=predicted_index)\n",
        "\n",
        "plt.plot(predicted_cases, label='Predict Daily Cases')\n",
        "plt.legend();"
      ],
      "execution_count": 32,
      "outputs": [
        {
          "output_type": "display_data",
          "data": {
            "image/png": "[encoded data removed]",
            "text/plain": [
              "<Figure size 432x288 with 1 Axes>"
            ]
          },
          "metadata": {
            "tags": []
          }
        }
      ]
    },
    {
      "cell_type": "code",
      "metadata": {
        "id": "CQeWBKr4tf5T",
        "colab_type": "code",
        "outputId": "cb65538e-d198-4e53-e0c9-61ea2fdf7e23",
        "colab": {
          "base_uri": "https://localhost:8080/",
          "height": 267
        }
      },
      "source": [
        "#Now we can use all the data to plot the results:\n",
        "plt.plot(daily_cases, label='Historical Daily Cases')\n",
        "plt.plot(predicted_cases, label='Predicted Daily Cases')\n",
        "plt.legend();"
      ],
      "execution_count": 33,
      "outputs": [
        {
          "output_type": "display_data",
          "data": {
            "image/png": "[encoded data removed]",
            "text/plain": [
              "<Figure size 432x288 with 1 Axes>"
            ]
          },
          "metadata": {
            "tags": []
          }
        }
      ]
    }
  ]
}